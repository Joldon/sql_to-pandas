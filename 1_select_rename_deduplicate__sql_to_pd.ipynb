{
  "cells": [
    {
      "cell_type": "markdown",
      "metadata": {
        "id": "5b1232gUxLxu"
      },
      "source": [
        "# From SQL to Pandas Challenge 1"
      ]
    },
    {
      "cell_type": "code",
      "execution_count": 3,
      "metadata": {
        "id": "2ohSu7N6xLxw"
      },
      "outputs": [
        {
          "ename": "ModuleNotFoundError",
          "evalue": "No module named 'pandas'",
          "output_type": "error",
          "traceback": [
            "\u001b[0;31m---------------------------------------------------------------------------\u001b[0m",
            "\u001b[0;31mModuleNotFoundError\u001b[0m                       Traceback (most recent call last)",
            "Cell \u001b[0;32mIn[3], line 2\u001b[0m\n\u001b[1;32m      1\u001b[0m \u001b[39m# import libraries\u001b[39;00m\n\u001b[0;32m----> 2\u001b[0m \u001b[39mimport\u001b[39;00m \u001b[39mpandas\u001b[39;00m \u001b[39mas\u001b[39;00m \u001b[39mpd\u001b[39;00m\n\u001b[1;32m      4\u001b[0m \u001b[39m# load data\u001b[39;00m\n\u001b[1;32m      5\u001b[0m \u001b[39m# This code is made to load our data stored on Google Drive\u001b[39;00m\n\u001b[1;32m      6\u001b[0m \u001b[39mdef\u001b[39;00m \u001b[39mgd_path\u001b[39m(file_id):\n",
            "\u001b[0;31mModuleNotFoundError\u001b[0m: No module named 'pandas'"
          ]
        }
      ],
      "source": [
        "# import libraries\n",
        "import pandas as pd\n",
        "\n",
        "# load data\n",
        "# This code is made to load our data stored on Google Drive\n",
        "def gd_path(file_id):\n",
        "    \"\"\"Generate a shareable link from Google Drive file id.\"\"\"\n",
        "    return f\"https://drive.google.com/uc?export=download&id={file_id}\"\n",
        "\n",
        "# Google Drive file ids\n",
        "files_id = {\n",
        "    \"titleauthor\": \"1F1JOiYXStWacOBca6coNVfyVtoST7ZgD\",\n",
        "    \"titles\": \"1PLdn50N9GRa53ZbuVWo0l47F_IXdvlEm\", \n",
        "    \"sales\": \"1fzFc9rwYmVIPaGOFmhLVxCi3kg19vNU2\", \n",
        "    \"publishers\": \"1s9E8_AVOziTrowb3wyh2jg3PV763VOyq\",\n",
        "    \"jobs\": \"1V1Za8hUdXD-vJOyRdX4aQV5wanIff2eM\",  \n",
        "    \"authors\": \"1fEF89Nhe61EebAljKlwFwfEuokK0o6aJ\"\n",
        "}\n",
        "\n",
        "# Read data from Google Drive\n",
        "sales = pd.read_csv(gd_path(files_id[\"sales\"]), sep=\";\")\n",
        "authors = pd.read_csv(gd_path(files_id[\"authors\"]), sep=\";\")\n",
        "titleauthor = pd.read_csv(gd_path(files_id[\"titleauthor\"]), sep=\";\")\n",
        "publishers = pd.read_csv(gd_path(files_id[\"publishers\"]), sep=\";\")\n",
        "jobs = pd.read_csv(gd_path(files_id[\"jobs\"]), sep=\";\")\n",
        "titles = pd.read_csv(gd_path(files_id[\"titles\"]), sep=\";\")"
      ]
    },
    {
      "cell_type": "code",
      "execution_count": null,
      "metadata": {},
      "outputs": [],
      "source": []
    },
    {
      "cell_type": "markdown",
      "metadata": {
        "id": "SyCUBe5wxLxw"
      },
      "source": [
        "We have loaded the tables: \n",
        "\n",
        "* `sales`\n",
        "* `authors`\n",
        "* `titleauthor`\n",
        "* `publishers`\n",
        "* `jobs`\n",
        "* `titles`\n",
        "\n",
        "You can use them by writting `sales`, `authors`, `titleauthor`, `publishers`, `jobs` or `titles` in a cell."
      ]
    },
    {
      "cell_type": "markdown",
      "metadata": {
        "id": "uskJztu-xLxx"
      },
      "source": [
        "## 1. Select everything from the table authors"
      ]
    },
    {
      "cell_type": "code",
      "execution_count": 2,
      "metadata": {
        "id": "YZgL1YMCxLxx"
      },
      "outputs": [
        {
          "ename": "NameError",
          "evalue": "name 'authors' is not defined",
          "output_type": "error",
          "traceback": [
            "\u001b[0;31m---------------------------------------------------------------------------\u001b[0m",
            "\u001b[0;31mNameError\u001b[0m                                 Traceback (most recent call last)",
            "Cell \u001b[0;32mIn[2], line 1\u001b[0m\n\u001b[0;32m----> 1\u001b[0m \u001b[39mprint\u001b[39m(authors)\n",
            "\u001b[0;31mNameError\u001b[0m: name 'authors' is not defined"
          ]
        }
      ],
      "source": [
        "print(authors)"
      ]
    },
    {
      "cell_type": "markdown",
      "metadata": {
        "id": "75tuLAMsxLxx"
      },
      "source": [
        "### HINT"
      ]
    },
    {
      "attachments": {},
      "cell_type": "markdown",
      "metadata": {
        "id": "dSmR43OTxLxx"
      },
      "source": [
        "The syntax to select everything from a table in SQL is:\n",
        "\n",
        "```sql\n",
        "SELECT * FROM authors;\n",
        "```"
      ]
    },
    {
      "cell_type": "markdown",
      "metadata": {
        "id": "f4JDb5uFxLxx"
      },
      "source": [
        "## 2. Select everything from the tables \"titles\", \"titleauthor\", \"publishers\" and \"sales\" (one table at a time). Look at the raw data and think about how these tables are related to each other."
      ]
    },
    {
      "cell_type": "code",
      "execution_count": null,
      "metadata": {
        "id": "M4ritJcQxLxy"
      },
      "outputs": [],
      "source": []
    },
    {
      "cell_type": "markdown",
      "metadata": {
        "id": "rNM2rSvTxLxy"
      },
      "source": [
        "### HINT"
      ]
    },
    {
      "cell_type": "markdown",
      "metadata": {
        "id": "VXQ97vJTxLxy"
      },
      "source": [
        "The syntax to select everything from a table in SQL is:\n",
        "\n",
        "```sql\n",
        "SELECT * FROM titles;\n",
        "\n",
        "SELECT * FROM titleauthor;\n",
        "\n",
        "SELECT * FROM publishers;\n",
        "\n",
        "SELECT * FROM sales;\n",
        "```"
      ]
    },
    {
      "cell_type": "markdown",
      "metadata": {
        "id": "RUHWivGGxLxy"
      },
      "source": [
        "## 3. Select the authors first and last name"
      ]
    },
    {
      "cell_type": "code",
      "execution_count": null,
      "metadata": {
        "id": "VksfNhYExLxy"
      },
      "outputs": [],
      "source": []
    },
    {
      "cell_type": "markdown",
      "metadata": {
        "id": "Nc89FGz1xLxy"
      },
      "source": [
        "### HINT"
      ]
    },
    {
      "cell_type": "markdown",
      "metadata": {
        "id": "LX_xQ7smxLxy"
      },
      "source": [
        "The syntax to select everything from a table in SQL is:\n",
        "\n",
        "```sql\n",
        "SELECT \n",
        "    au_fname, au_lname\n",
        "FROM\n",
        "    authors\n",
        "```"
      ]
    },
    {
      "cell_type": "markdown",
      "metadata": {
        "id": "vxKUcgoSxLxz"
      },
      "source": [
        "## 4. Select the publisher names"
      ]
    },
    {
      "cell_type": "code",
      "execution_count": 5,
      "metadata": {
        "id": "7nQPArHkxLxz"
      },
      "outputs": [
        {
          "ename": "NameError",
          "evalue": "name 'publishers' is not defined",
          "output_type": "error",
          "traceback": [
            "\u001b[0;31m---------------------------------------------------------------------------\u001b[0m",
            "\u001b[0;31mNameError\u001b[0m                                 Traceback (most recent call last)",
            "Cell \u001b[0;32mIn[5], line 1\u001b[0m\n\u001b[0;32m----> 1\u001b[0m publishers\u001b[39m.\u001b[39mhead()\n\u001b[1;32m      2\u001b[0m publishers[[\u001b[39m'\u001b[39m\u001b[39mpub_name\u001b[39m\u001b[39m'\u001b[39m]]\n",
            "\u001b[0;31mNameError\u001b[0m: name 'publishers' is not defined"
          ]
        }
      ],
      "source": [
        "publishers.head()\n",
        "publishers[['pub_name']]\n"
      ]
    },
    {
      "cell_type": "markdown",
      "metadata": {
        "id": "iBVhSx8GxLxz"
      },
      "source": [
        "### HINT"
      ]
    },
    {
      "cell_type": "markdown",
      "metadata": {
        "id": "lO-OOOtwxLxz"
      },
      "source": [
        "The syntax to select everything from a table in SQL is:\n",
        "\n",
        "```sql\n",
        "SELECT \n",
        "    pub_name\n",
        "FROM\n",
        "    publishers;\n",
        "```"
      ]
    },
    {
      "cell_type": "markdown",
      "metadata": {
        "id": "3EVtlFtixLxz"
      },
      "source": [
        "## 5. Select the title, price and year-to-date sales of all titles"
      ]
    },
    {
      "cell_type": "code",
      "execution_count": null,
      "metadata": {
        "id": "RKCL0nkRxLxz"
      },
      "outputs": [],
      "source": []
    },
    {
      "cell_type": "markdown",
      "metadata": {
        "id": "9kMwHPf0xLxz"
      },
      "source": [
        "### HINT"
      ]
    },
    {
      "cell_type": "markdown",
      "metadata": {
        "id": "IDIqRkK_xLxz"
      },
      "source": [
        "The syntax to select everything from a table in SQL is:\n",
        "\n",
        "```sql\n",
        "SELECT \n",
        "    title, price, ytd_sales\n",
        "FROM\n",
        "    titles;\n",
        "```"
      ]
    },
    {
      "cell_type": "markdown",
      "metadata": {
        "id": "dahllNP5xLxz"
      },
      "source": [
        "## 6. Select all the authors first names, but display the column with the alias \"first_name\""
      ]
    },
    {
      "cell_type": "code",
      "execution_count": null,
      "metadata": {
        "id": "iEYRzHxvxLxz"
      },
      "outputs": [],
      "source": []
    },
    {
      "cell_type": "markdown",
      "metadata": {
        "id": "vGi2QulaxLx0"
      },
      "source": [
        "### HINT"
      ]
    },
    {
      "cell_type": "markdown",
      "metadata": {
        "id": "5ioR1SfWxLx0"
      },
      "source": [
        "The syntax to select everything from a table in SQL is:\n",
        "\n",
        "```sql\n",
        "SELECT \n",
        "\tau_fname AS first_name\n",
        "FROM\n",
        "\tauthors;\n",
        "```\n",
        "\n",
        "You can rename columns in pandas with the `rename` method, here is the link to the [documentation](https://pandas.pydata.org/pandas-docs/stable/reference/api/pandas.DataFrame.rename.html)."
      ]
    },
    {
      "cell_type": "markdown",
      "metadata": {
        "id": "24nNi5_ixLx0"
      },
      "source": [
        "## 7. Select the job id and job description of all jobs, but display the columns with the names \"id\" and \"description\""
      ]
    },
    {
      "cell_type": "code",
      "execution_count": null,
      "metadata": {
        "id": "yxFrk_LQxLx0"
      },
      "outputs": [],
      "source": []
    },
    {
      "cell_type": "markdown",
      "metadata": {
        "id": "vlBSjcP7xLx0"
      },
      "source": [
        "### HINT"
      ]
    },
    {
      "cell_type": "markdown",
      "metadata": {
        "id": "Tm0zqW1AxLx0"
      },
      "source": [
        "```sql\n",
        "SELECT\n",
        "\tjob_id AS id,\n",
        "\tjob_desc AS description\n",
        "FROM\n",
        "\tjobs;\n",
        "```\n",
        "\n",
        "You can rename columns in pandas with the `rename` method, here is the link to the [documentation](https://pandas.pydata.org/pandas-docs/stable/reference/api/pandas.DataFrame.rename.html)."
      ]
    },
    {
      "cell_type": "markdown",
      "metadata": {
        "id": "muxNtWCexLx0"
      },
      "source": [
        "## 8. Select all unique last names of authors (the same last name cannot appear more than once)"
      ]
    },
    {
      "cell_type": "code",
      "execution_count": null,
      "metadata": {
        "id": "FviJlr5DxLx1"
      },
      "outputs": [],
      "source": []
    },
    {
      "cell_type": "markdown",
      "metadata": {
        "id": "VFonT6YTxLx1"
      },
      "source": [
        "### HINT "
      ]
    },
    {
      "cell_type": "markdown",
      "metadata": {
        "id": "cXsMB7fOxLx1"
      },
      "source": [
        "```sql\n",
        "SELECT\n",
        "\tDISTINCT au_lname\n",
        "FROM\n",
        "\tauthors;\n",
        "```"
      ]
    },
    {
      "cell_type": "markdown",
      "metadata": {
        "id": "v4W1yq1KxLx1"
      },
      "source": [
        "## 9. Select all unique title id's that were involved in a sale"
      ]
    },
    {
      "cell_type": "code",
      "execution_count": null,
      "metadata": {
        "id": "ZDtUhBxNxLx1"
      },
      "outputs": [],
      "source": []
    },
    {
      "cell_type": "markdown",
      "metadata": {
        "id": "16IrlpzmxLx1"
      },
      "source": [
        "### HINT "
      ]
    },
    {
      "cell_type": "markdown",
      "metadata": {
        "id": "Wer7dRrIxLx1"
      },
      "source": [
        "```sql\n",
        "SELECT\n",
        "\tDISTINCT title_id\n",
        "FROM\n",
        "\tsales;\n",
        "```"
      ]
    }
  ],
  "metadata": {
    "colab": {
      "provenance": []
    },
    "kernelspec": {
      "display_name": "Python 3",
      "language": "python",
      "name": "python3"
    },
    "language_info": {
      "codemirror_mode": {
        "name": "ipython",
        "version": 3
      },
      "file_extension": ".py",
      "mimetype": "text/x-python",
      "name": "python",
      "nbconvert_exporter": "python",
      "pygments_lexer": "ipython3",
      "version": "3.8.2"
    },
    "orig_nbformat": 4,
    "vscode": {
      "interpreter": {
        "hash": "31f2aee4e71d21fbe5cf8b01ff0e069b9275f58929596ceb00d14d90e3e16cd6"
      }
    }
  },
  "nbformat": 4,
  "nbformat_minor": 0
}
