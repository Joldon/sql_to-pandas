{
  "cells": [
    {
      "cell_type": "markdown",
      "metadata": {
        "id": "5b1232gUxLxu"
      },
      "source": [
        "# From SQL to Pandas Challenge 1"
      ]
    },
    {
      "cell_type": "code",
      "execution_count": 1,
      "metadata": {
        "id": "2ohSu7N6xLxw"
      },
      "outputs": [],
      "source": [
        "# import libraries\n",
        "import pandas as pd\n",
        "\n",
        "# load data\n",
        "# This code is made to load our data stored on Google Drive\n",
        "def gd_path(file_id):\n",
        "    \"\"\"Generate a shareable link from Google Drive file id.\"\"\"\n",
        "    return f\"https://drive.google.com/uc?export=download&id={file_id}\"\n",
        "\n",
        "# Google Drive file ids\n",
        "files_id = {\n",
        "    \"titleauthor\": \"1F1JOiYXStWacOBca6coNVfyVtoST7ZgD\",\n",
        "    \"titles\": \"1PLdn50N9GRa53ZbuVWo0l47F_IXdvlEm\", \n",
        "    \"sales\": \"1fzFc9rwYmVIPaGOFmhLVxCi3kg19vNU2\", \n",
        "    \"publishers\": \"1s9E8_AVOziTrowb3wyh2jg3PV763VOyq\",\n",
        "    \"jobs\": \"1V1Za8hUdXD-vJOyRdX4aQV5wanIff2eM\",  \n",
        "    \"authors\": \"1fEF89Nhe61EebAljKlwFwfEuokK0o6aJ\"\n",
        "}\n",
        "\n",
        "# Read data from Google Drive\n",
        "sales = pd.read_csv(gd_path(files_id[\"sales\"]), sep=\";\")\n",
        "authors = pd.read_csv(gd_path(files_id[\"authors\"]), sep=\";\")\n",
        "titleauthor = pd.read_csv(gd_path(files_id[\"titleauthor\"]), sep=\";\")\n",
        "publishers = pd.read_csv(gd_path(files_id[\"publishers\"]), sep=\";\")\n",
        "jobs = pd.read_csv(gd_path(files_id[\"jobs\"]), sep=\";\")\n",
        "titles = pd.read_csv(gd_path(files_id[\"titles\"]), sep=\";\")"
      ]
    },
    {
      "cell_type": "code",
      "execution_count": null,
      "metadata": {},
      "outputs": [],
      "source": []
    },
    {
      "cell_type": "markdown",
      "metadata": {
        "id": "SyCUBe5wxLxw"
      },
      "source": [
        "We have loaded the tables: \n",
        "\n",
        "* `sales`\n",
        "* `authors`\n",
        "* `titleauthor`\n",
        "* `publishers`\n",
        "* `jobs`\n",
        "* `titles`\n",
        "\n",
        "You can use them by writting `sales`, `authors`, `titleauthor`, `publishers`, `jobs` or `titles` in a cell."
      ]
    },
    {
      "cell_type": "markdown",
      "metadata": {
        "id": "uskJztu-xLxx"
      },
      "source": [
        "## 1. Select everything from the table authors"
      ]
    },
    {
      "cell_type": "code",
      "execution_count": 2,
      "metadata": {
        "id": "YZgL1YMCxLxx"
      },
      "outputs": [
        {
          "name": "stdout",
          "output_type": "stream",
          "text": [
            "          au_id        au_lname     au_fname         phone  \\\n",
            "0   172-32-1176           White      Johnson  408 496-7223   \n",
            "1   213-46-8915           Green     Marjorie  415 986-7020   \n",
            "2   238-95-7766          Carson       Cheryl  415 548-7723   \n",
            "3   267-41-2394         O'Leary      Michael  408 286-2428   \n",
            "4   274-80-9391        Straight         Dean  415 834-2919   \n",
            "5   341-22-1782           Smith      Meander  913 843-0462   \n",
            "6   409-56-7008          Bennet      Abraham  415 658-9932   \n",
            "7   427-17-2319            Dull          Ann  415 836-7128   \n",
            "8   472-27-2349      Gringlesby         Burt  707 938-6445   \n",
            "9   486-29-1786        Locksley     Charlene  415 585-4620   \n",
            "10  527-72-3246          Greene  Morningstar  615 297-2723   \n",
            "11  648-92-1872  Blotchet-Halls     Reginald  503 745-6402   \n",
            "12  672-71-3249        Yokomoto        Akiko  415 935-4228   \n",
            "13  712-45-1867    del Castillo        Innes  615 996-8275   \n",
            "14  722-51-5454        DeFrance       Michel  219 547-9982   \n",
            "15  724-08-9931        Stringer         Dirk  415 843-2991   \n",
            "16  724-80-9391      MacFeather      Stearns  415 354-7128   \n",
            "17  756-30-7391          Karsen        Livia  415 534-9219   \n",
            "18  807-91-6654        Panteley       Sylvia  301 946-8853   \n",
            "19  846-92-7186          Hunter       Sheryl  415 836-7128   \n",
            "20  893-72-1158        McBadden      Heather  707 448-4982   \n",
            "21  899-46-2035          Ringer         Anne  801 826-0752   \n",
            "22  998-72-3567          Ringer       Albert  801 826-0752   \n",
            "\n",
            "                 address            city state    zip  contract  \n",
            "0        10932 Bigge Rd.      Menlo Park    CA  94025         1  \n",
            "1      309 63rd St. #411         Oakland    CA  94618         1  \n",
            "2         589 Darwin Ln.        Berkeley    CA  94705         1  \n",
            "3   22 Cleveland Av. #14        San Jose    CA  95128         1  \n",
            "4       5420 College Av.         Oakland    CA  94609         1  \n",
            "5     10 Mississippi Dr.        Lawrence    KS  66044         0  \n",
            "6       6223 Bateman St.        Berkeley    CA  94705         1  \n",
            "7        3410 Blonde St.       Palo Alto    CA  94301         1  \n",
            "8             PO Box 792          Covelo    CA  95428         1  \n",
            "9        18 Broadway Av.   San Francisco    CA  94130         1  \n",
            "10  22 Graybar House Rd.       Nashville    TN  37215         0  \n",
            "11      55 Hillsdale Bl.       Corvallis    OR  97330         1  \n",
            "12          3 Silver Ct.    Walnut Creek    CA  94595         1  \n",
            "13     2286 Cram Pl. #86       Ann Arbor    MI  48105         1  \n",
            "14         3 Balding Pl.            Gary    IN  46403         1  \n",
            "15    5420 Telegraph Av.         Oakland    CA  94609         0  \n",
            "16        44 Upland Hts.         Oakland    CA  94612         1  \n",
            "17      5720 McAuley St.         Oakland    CA  94609         1  \n",
            "18    1956 Arlington Pl.       Rockville    MD  20853         1  \n",
            "19       3410 Blonde St.       Palo Alto    CA  94301         1  \n",
            "20            301 Putnam       Vacaville    CA  95688         0  \n",
            "21        67 Seventh Av.  Salt Lake City    UT  84152         1  \n",
            "22        67 Seventh Av.  Salt Lake City    UT  84152         1  \n"
          ]
        }
      ],
      "source": [
        "print(authors)"
      ]
    },
    {
      "cell_type": "markdown",
      "metadata": {
        "id": "75tuLAMsxLxx"
      },
      "source": [
        "### HINT"
      ]
    },
    {
      "attachments": {},
      "cell_type": "markdown",
      "metadata": {
        "id": "dSmR43OTxLxx"
      },
      "source": [
        "The syntax to select everything from a table in SQL is:\n",
        "\n",
        "```sql\n",
        "SELECT * FROM authors;\n",
        "```"
      ]
    },
    {
      "cell_type": "markdown",
      "metadata": {
        "id": "f4JDb5uFxLxx"
      },
      "source": [
        "## 2. Select everything from the tables \"titles\", \"titleauthor\", \"publishers\" and \"sales\" (one table at a time). Look at the raw data and think about how these tables are related to each other."
      ]
    },
    {
      "cell_type": "code",
      "execution_count": null,
      "metadata": {
        "id": "M4ritJcQxLxy"
      },
      "outputs": [],
      "source": []
    },
    {
      "cell_type": "markdown",
      "metadata": {
        "id": "rNM2rSvTxLxy"
      },
      "source": [
        "### HINT"
      ]
    },
    {
      "cell_type": "markdown",
      "metadata": {
        "id": "VXQ97vJTxLxy"
      },
      "source": [
        "The syntax to select everything from a table in SQL is:\n",
        "\n",
        "```sql\n",
        "SELECT * FROM titles;\n",
        "\n",
        "SELECT * FROM titleauthor;\n",
        "\n",
        "SELECT * FROM publishers;\n",
        "\n",
        "SELECT * FROM sales;\n",
        "```"
      ]
    },
    {
      "cell_type": "markdown",
      "metadata": {
        "id": "RUHWivGGxLxy"
      },
      "source": [
        "## 3. Select the authors first and last name"
      ]
    },
    {
      "cell_type": "code",
      "execution_count": null,
      "metadata": {
        "id": "VksfNhYExLxy"
      },
      "outputs": [],
      "source": []
    },
    {
      "cell_type": "markdown",
      "metadata": {
        "id": "Nc89FGz1xLxy"
      },
      "source": [
        "### HINT"
      ]
    },
    {
      "cell_type": "markdown",
      "metadata": {
        "id": "LX_xQ7smxLxy"
      },
      "source": [
        "The syntax to select everything from a table in SQL is:\n",
        "\n",
        "```sql\n",
        "SELECT \n",
        "    au_fname, au_lname\n",
        "FROM\n",
        "    authors\n",
        "```"
      ]
    },
    {
      "cell_type": "markdown",
      "metadata": {
        "id": "vxKUcgoSxLxz"
      },
      "source": [
        "## 4. Select the publisher names"
      ]
    },
    {
      "cell_type": "code",
      "execution_count": 3,
      "metadata": {
        "id": "7nQPArHkxLxz"
      },
      "outputs": [
        {
          "data": {
            "text/html": [
              "<div>\n",
              "<style scoped>\n",
              "    .dataframe tbody tr th:only-of-type {\n",
              "        vertical-align: middle;\n",
              "    }\n",
              "\n",
              "    .dataframe tbody tr th {\n",
              "        vertical-align: top;\n",
              "    }\n",
              "\n",
              "    .dataframe thead th {\n",
              "        text-align: right;\n",
              "    }\n",
              "</style>\n",
              "<table border=\"1\" class=\"dataframe\">\n",
              "  <thead>\n",
              "    <tr style=\"text-align: right;\">\n",
              "      <th></th>\n",
              "      <th>pub_name</th>\n",
              "    </tr>\n",
              "  </thead>\n",
              "  <tbody>\n",
              "    <tr>\n",
              "      <th>0</th>\n",
              "      <td>New Moon Books</td>\n",
              "    </tr>\n",
              "    <tr>\n",
              "      <th>1</th>\n",
              "      <td>Binnet &amp; Hardley</td>\n",
              "    </tr>\n",
              "    <tr>\n",
              "      <th>2</th>\n",
              "      <td>Algodata Infosystems</td>\n",
              "    </tr>\n",
              "    <tr>\n",
              "      <th>3</th>\n",
              "      <td>Five Lakes Publishing</td>\n",
              "    </tr>\n",
              "    <tr>\n",
              "      <th>4</th>\n",
              "      <td>Ramona Publishers</td>\n",
              "    </tr>\n",
              "    <tr>\n",
              "      <th>5</th>\n",
              "      <td>GGG&amp;G</td>\n",
              "    </tr>\n",
              "    <tr>\n",
              "      <th>6</th>\n",
              "      <td>Scootney Books</td>\n",
              "    </tr>\n",
              "    <tr>\n",
              "      <th>7</th>\n",
              "      <td>Lucerne Publishing</td>\n",
              "    </tr>\n",
              "  </tbody>\n",
              "</table>\n",
              "</div>"
            ],
            "text/plain": [
              "                pub_name\n",
              "0         New Moon Books\n",
              "1       Binnet & Hardley\n",
              "2   Algodata Infosystems\n",
              "3  Five Lakes Publishing\n",
              "4      Ramona Publishers\n",
              "5                  GGG&G\n",
              "6         Scootney Books\n",
              "7     Lucerne Publishing"
            ]
          },
          "execution_count": 3,
          "metadata": {},
          "output_type": "execute_result"
        }
      ],
      "source": [
        "publishers.head()\n",
        "publishers[['pub_name']]\n"
      ]
    },
    {
      "cell_type": "markdown",
      "metadata": {
        "id": "iBVhSx8GxLxz"
      },
      "source": [
        "### HINT"
      ]
    },
    {
      "cell_type": "markdown",
      "metadata": {
        "id": "lO-OOOtwxLxz"
      },
      "source": [
        "The syntax to select everything from a table in SQL is:\n",
        "\n",
        "```sql\n",
        "SELECT \n",
        "    pub_name\n",
        "FROM\n",
        "    publishers;\n",
        "```"
      ]
    },
    {
      "cell_type": "markdown",
      "metadata": {
        "id": "3EVtlFtixLxz"
      },
      "source": [
        "## 5. Select the title, price and year-to-date sales of all titles"
      ]
    },
    {
      "cell_type": "code",
      "execution_count": null,
      "metadata": {
        "id": "RKCL0nkRxLxz"
      },
      "outputs": [],
      "source": []
    },
    {
      "cell_type": "markdown",
      "metadata": {
        "id": "9kMwHPf0xLxz"
      },
      "source": [
        "### HINT"
      ]
    },
    {
      "cell_type": "markdown",
      "metadata": {
        "id": "IDIqRkK_xLxz"
      },
      "source": [
        "The syntax to select everything from a table in SQL is:\n",
        "\n",
        "```sql\n",
        "SELECT \n",
        "    title, price, ytd_sales\n",
        "FROM\n",
        "    titles;\n",
        "```"
      ]
    },
    {
      "cell_type": "markdown",
      "metadata": {
        "id": "dahllNP5xLxz"
      },
      "source": [
        "## 6. Select all the authors first names, but display the column with the alias \"first_name\""
      ]
    },
    {
      "cell_type": "code",
      "execution_count": null,
      "metadata": {
        "id": "iEYRzHxvxLxz"
      },
      "outputs": [],
      "source": []
    },
    {
      "cell_type": "markdown",
      "metadata": {
        "id": "vGi2QulaxLx0"
      },
      "source": [
        "### HINT"
      ]
    },
    {
      "cell_type": "markdown",
      "metadata": {
        "id": "5ioR1SfWxLx0"
      },
      "source": [
        "The syntax to select everything from a table in SQL is:\n",
        "\n",
        "```sql\n",
        "SELECT \n",
        "\tau_fname AS first_name\n",
        "FROM\n",
        "\tauthors;\n",
        "```\n",
        "\n",
        "You can rename columns in pandas with the `rename` method, here is the link to the [documentation](https://pandas.pydata.org/pandas-docs/stable/reference/api/pandas.DataFrame.rename.html)."
      ]
    },
    {
      "cell_type": "markdown",
      "metadata": {
        "id": "24nNi5_ixLx0"
      },
      "source": [
        "## 7. Select the job id and job description of all jobs, but display the columns with the names \"id\" and \"description\""
      ]
    },
    {
      "cell_type": "code",
      "execution_count": null,
      "metadata": {
        "id": "yxFrk_LQxLx0"
      },
      "outputs": [],
      "source": []
    },
    {
      "cell_type": "markdown",
      "metadata": {
        "id": "vlBSjcP7xLx0"
      },
      "source": [
        "### HINT"
      ]
    },
    {
      "cell_type": "markdown",
      "metadata": {
        "id": "Tm0zqW1AxLx0"
      },
      "source": [
        "```sql\n",
        "SELECT\n",
        "\tjob_id AS id,\n",
        "\tjob_desc AS description\n",
        "FROM\n",
        "\tjobs;\n",
        "```\n",
        "\n",
        "You can rename columns in pandas with the `rename` method, here is the link to the [documentation](https://pandas.pydata.org/pandas-docs/stable/reference/api/pandas.DataFrame.rename.html)."
      ]
    },
    {
      "cell_type": "markdown",
      "metadata": {
        "id": "muxNtWCexLx0"
      },
      "source": [
        "## 8. Select all unique last names of authors (the same last name cannot appear more than once)"
      ]
    },
    {
      "cell_type": "code",
      "execution_count": null,
      "metadata": {
        "id": "FviJlr5DxLx1"
      },
      "outputs": [],
      "source": []
    },
    {
      "cell_type": "markdown",
      "metadata": {
        "id": "VFonT6YTxLx1"
      },
      "source": [
        "### HINT "
      ]
    },
    {
      "cell_type": "markdown",
      "metadata": {
        "id": "cXsMB7fOxLx1"
      },
      "source": [
        "```sql\n",
        "SELECT\n",
        "\tDISTINCT au_lname\n",
        "FROM\n",
        "\tauthors;\n",
        "```"
      ]
    },
    {
      "cell_type": "markdown",
      "metadata": {
        "id": "v4W1yq1KxLx1"
      },
      "source": [
        "## 9. Select all unique title id's that were involved in a sale"
      ]
    },
    {
      "cell_type": "code",
      "execution_count": null,
      "metadata": {
        "id": "ZDtUhBxNxLx1"
      },
      "outputs": [],
      "source": []
    },
    {
      "cell_type": "markdown",
      "metadata": {
        "id": "16IrlpzmxLx1"
      },
      "source": [
        "### HINT "
      ]
    },
    {
      "cell_type": "markdown",
      "metadata": {
        "id": "Wer7dRrIxLx1"
      },
      "source": [
        "```sql\n",
        "SELECT\n",
        "\tDISTINCT title_id\n",
        "FROM\n",
        "\tsales;\n",
        "```"
      ]
    }
  ],
  "metadata": {
    "colab": {
      "provenance": []
    },
    "kernelspec": {
      "display_name": "Python 3",
      "language": "python",
      "name": "python3"
    },
    "language_info": {
      "codemirror_mode": {
        "name": "ipython",
        "version": 3
      },
      "file_extension": ".py",
      "mimetype": "text/x-python",
      "name": "python",
      "nbconvert_exporter": "python",
      "pygments_lexer": "ipython3",
      "version": "3.8.2"
    },
    "orig_nbformat": 4,
    "vscode": {
      "interpreter": {
        "hash": "31f2aee4e71d21fbe5cf8b01ff0e069b9275f58929596ceb00d14d90e3e16cd6"
      }
    }
  },
  "nbformat": 4,
  "nbformat_minor": 0
}
