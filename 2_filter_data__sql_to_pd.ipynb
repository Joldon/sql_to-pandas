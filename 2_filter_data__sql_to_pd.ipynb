{
  "cells": [
    {
      "cell_type": "markdown",
      "metadata": {
        "id": "MmqHOyoky9A0"
      },
      "source": [
        "# From SQL to Pandas Challenge 2\n",
        "\n",
        "First, we'll need to set up the tables again, so we can work with them."
      ]
    },
    {
      "cell_type": "code",
      "execution_count": 1,
      "metadata": {
        "id": "sRa1l57Uy9A4"
      },
      "outputs": [],
      "source": [
        "# import libraries\n",
        "import pandas as pd\n",
        "\n",
        "# load data\n",
        "# This code is made to load our data stored on Google Drive\n",
        "def gd_path(file_id):\n",
        "    \"\"\"Generate a shareable link from Google Drive file id.\"\"\"\n",
        "    return f\"https://drive.google.com/uc?export=download&id={file_id}\"\n",
        "\n",
        "# Google Drive file ids\n",
        "files_id = {\n",
        "    \"sales\": \"1fzFc9rwYmVIPaGOFmhLVxCi3kg19vNU2\", \n",
        "    \"publishers\": \"1s9E8_AVOziTrowb3wyh2jg3PV763VOyq\",\n",
        "    \"authors\": \"1fEF89Nhe61EebAljKlwFwfEuokK0o6aJ\"\n",
        "}\n",
        "\n",
        "# Read data from Google Drive\n",
        "sales = pd.read_csv(gd_path(files_id[\"sales\"]), sep=\";\")\n",
        "authors = pd.read_csv(gd_path(files_id[\"authors\"]), sep=\";\")\n",
        "publishers = pd.read_csv(gd_path(files_id[\"publishers\"]), sep=\";\")"
      ]
    },
    {
      "cell_type": "markdown",
      "metadata": {
        "id": "yAEg5phPy9A6"
      },
      "source": [
        "## 1. Select first and last name from authors who have the last name \"Ringer\""
      ]
    },
    {
      "cell_type": "code",
      "execution_count": null,
      "metadata": {
        "id": "SzJ9rzqhy9A6"
      },
      "outputs": [],
      "source": []
    },
    {
      "cell_type": "markdown",
      "metadata": {
        "id": "Qu-VEWkUy9A7"
      },
      "source": [
        "### Hint:"
      ]
    },
    {
      "cell_type": "markdown",
      "metadata": {
        "id": "cInriGNgy9A7"
      },
      "source": [
        "\n",
        "In SQL the syntax is:\n",
        "\n",
        "```sql\n",
        "SELECT au_fname, au_lname\n",
        "FROM authors\n",
        "WHERE au_lname=\"Ringer\";\n",
        "```"
      ]
    },
    {
      "cell_type": "markdown",
      "metadata": {
        "id": "gZohHKruy9A8"
      },
      "source": [
        "## 2. Select the order number and order date of all sales where *exactly* 20 books were sold."
      ]
    },
    {
      "cell_type": "code",
      "execution_count": null,
      "metadata": {
        "id": "RQ4DhEI7y9A8"
      },
      "outputs": [],
      "source": []
    },
    {
      "cell_type": "markdown",
      "metadata": {
        "id": "xb0yWm6ky9A8"
      },
      "source": [
        "### Hint:"
      ]
    },
    {
      "cell_type": "markdown",
      "metadata": {
        "id": "GRBmPL2Yy9A9"
      },
      "source": [
        "In SQL the syntax is: \n",
        "\n",
        "```sql\n",
        "SELECT ord_num, ord_date, qty \n",
        "FROM sales \n",
        "WHER'E qty = 20;\n",
        "```"
      ]
    },
    {
      "cell_type": "markdown",
      "metadata": {
        "id": "ZymjlY4Ly9A9"
      },
      "source": [
        "## 3. Select first and last name from authors whose last name is \"Ringer\" and first name is \"Anne\""
      ]
    },
    {
      "cell_type": "code",
      "execution_count": null,
      "metadata": {
        "id": "Lx51qc1Xy9A9"
      },
      "outputs": [],
      "source": []
    },
    {
      "cell_type": "markdown",
      "metadata": {
        "id": "mUAYMl_gy9A9"
      },
      "source": [
        "### Hint:"
      ]
    },
    {
      "cell_type": "markdown",
      "metadata": {
        "id": "ZfgT65YNy9A9"
      },
      "source": [
        "In SQL the syntax is:\n",
        "\n",
        "```sql\n",
        "SELECT au_fname, au_lname\n",
        "FROM authors\n",
        "WHERE au_fname = \"Anne\"\n",
        "AND au_lname = \"Ringer\";\n",
        "```"
      ]
    },
    {
      "cell_type": "markdown",
      "metadata": {
        "id": "wlMTeVtUy9A-"
      },
      "source": [
        "### 4. Select the name and city of publishers based in either Germany or France"
      ]
    },
    {
      "cell_type": "code",
      "execution_count": null,
      "metadata": {
        "id": "qptoL4pUy9A-"
      },
      "outputs": [],
      "source": []
    },
    {
      "cell_type": "markdown",
      "metadata": {
        "id": "cCa1OgNJy9A-"
      },
      "source": [
        "### Hint:"
      ]
    },
    {
      "cell_type": "markdown",
      "metadata": {
        "id": "3e6W-3Qgy9A-"
      },
      "source": [
        "In SQL the syntax is:\n",
        "\n",
        "```sql\n",
        "SELECT pub_name, city \n",
        "FROM publishers \n",
        "WHERE country='Germany' \n",
        "OR country='France';\n",
        "```"
      ]
    },
    {
      "cell_type": "markdown",
      "metadata": {
        "id": "qz-FYCl0y9A-"
      },
      "source": [
        "## 5. Select first name, last name and city from authors whose first name is \"Dean\" and whose city is either \"Oakland\" or \"Berkeley\""
      ]
    },
    {
      "cell_type": "code",
      "execution_count": null,
      "metadata": {
        "id": "piAhRwOuy9A-"
      },
      "outputs": [],
      "source": []
    },
    {
      "cell_type": "markdown",
      "metadata": {
        "id": "JU1k8UQwy9A-"
      },
      "source": [
        "### Hint:"
      ]
    },
    {
      "cell_type": "markdown",
      "metadata": {
        "id": "H9d0CuAIy9A_"
      },
      "source": [
        "In SQL the syntax is:\n",
        "\n",
        "```sql\n",
        "SELECT au_fname,au_lname,city\n",
        "FROM authors\n",
        "WHERE au_fname =\"Dean\" \n",
        "AND (city =\"Oakland\" OR city = \"Berkeley\");\n",
        "```"
      ]
    },
    {
      "cell_type": "markdown",
      "metadata": {
        "id": "L26jCB-Cy9A_"
      },
      "source": [
        "## 6. Select the name, city and country of publishers, not based in the USA"
      ]
    },
    {
      "cell_type": "code",
      "execution_count": null,
      "metadata": {
        "id": "AbDVb50xy9A_"
      },
      "outputs": [],
      "source": []
    },
    {
      "cell_type": "markdown",
      "metadata": {
        "id": "8ld0jt4-y9A_"
      },
      "source": [
        "### Hint:"
      ]
    },
    {
      "cell_type": "markdown",
      "metadata": {
        "id": "aucl3Izly9A_"
      },
      "source": [
        "The SQL syntax is:\n",
        "```sql\n",
        "SELECT pub_name, city,country\n",
        "FROM publishers\n",
        "WHERE NOT country=\"USA\";\n",
        "```"
      ]
    },
    {
      "cell_type": "markdown",
      "metadata": {
        "id": "eZiPbULgy9A_"
      },
      "source": [
        "## 7. Select first name, last name and city from authors whose city is \"Oakland\" or \"Berkeley\", and last name is **not** \"Straight\""
      ]
    },
    {
      "cell_type": "code",
      "execution_count": null,
      "metadata": {
        "id": "mwGPQsSRy9A_"
      },
      "outputs": [],
      "source": []
    },
    {
      "cell_type": "markdown",
      "metadata": {
        "id": "51XuPM1fy9A_"
      },
      "source": [
        "### Hint:"
      ]
    },
    {
      "cell_type": "markdown",
      "metadata": {
        "id": "dfku8TRFy9A_"
      },
      "source": [
        "In SQL the syntax is:\n",
        "```sql\n",
        "SELECT au_fname, au_lname, city \n",
        "FROM authors\n",
        "WHERE (city = \"Oakland\" OR city = \"Berkeley\") \n",
        "AND NOT au_lname = \"Straight\";\n",
        "```"
      ]
    }
  ],
  "metadata": {
    "colab": {
      "provenance": []
    },
    "kernelspec": {
      "display_name": "Python 3",
      "language": "python",
      "name": "python3"
    },
    "language_info": {
      "codemirror_mode": {
        "name": "ipython",
        "version": 3
      },
      "file_extension": ".py",
      "mimetype": "text/x-python",
      "name": "python",
      "nbconvert_exporter": "python",
      "pygments_lexer": "ipython3",
      "version": "3.8.2"
    },
    "orig_nbformat": 4,
    "vscode": {
      "interpreter": {
        "hash": "31f2aee4e71d21fbe5cf8b01ff0e069b9275f58929596ceb00d14d90e3e16cd6"
      }
    }
  },
  "nbformat": 4,
  "nbformat_minor": 0
}
